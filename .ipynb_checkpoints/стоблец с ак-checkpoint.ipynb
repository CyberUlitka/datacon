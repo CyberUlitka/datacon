{
 "cells": [
  {
   "cell_type": "code",
   "execution_count": 31,
   "id": "36d093b9-8312-417c-8471-7940eccc4231",
   "metadata": {},
   "outputs": [],
   "source": [
    "import pandas as pd\n",
    "import numpy as np\n",
    "from rdkit import Chem\n",
    "\n",
    "from Bio.SeqUtils import seq1\n",
    "import requests\n",
    "\n",
    "from Bio.Seq import Seq"
   ]
  },
  {
   "cell_type": "code",
   "execution_count": 32,
   "id": "3e5cddc7-ed95-4f73-963a-86763f177c90",
   "metadata": {},
   "outputs": [],
   "source": [
    "df = pd.read_excel('UTexas Aptamer Database.xlsx')"
   ]
  },
  {
   "cell_type": "code",
   "execution_count": 33,
   "id": "d67d6b87-e934-4ca7-aa70-badbc1805cf9",
   "metadata": {},
   "outputs": [],
   "source": [
    "df.columns = df.columns.str.strip()"
   ]
  },
  {
   "cell_type": "code",
   "execution_count": 34,
   "id": "9e789c85-c748-4bc5-8270-74277881770e",
   "metadata": {},
   "outputs": [],
   "source": [
    "def to_numeric(column):\n",
    "    return pd.to_numeric(df[column], errors='coerce')\n",
    "\n",
    "df['Kd (nM)'] = to_numeric('Kd (nM)')\n",
    "df['Sequence Length'] = to_numeric('Sequence Length')\n",
    "df['GC Content'] = to_numeric('GC Content')"
   ]
  },
  {
   "cell_type": "code",
   "execution_count": 29,
   "id": "786283c6-b8dd-49ed-ba16-136732131be6",
   "metadata": {},
   "outputs": [],
   "source": [
    "def translate(seq): \n",
    "      \n",
    "    table = { \n",
    "        'AUA':'I', 'AUC':'I', 'AUU':'I', 'AUG':'M', \n",
    "        'ACA':'U', 'ACC':'U', 'ACG':'U', 'ACU':'U', \n",
    "        'AAC':'N', 'AAU':'N', 'AAA':'K', 'AAG':'K', \n",
    "        'AGC':'S', 'AGU':'S', 'AGA':'R', 'AGG':'R',                  \n",
    "        'CUA':'L', 'CUC':'L', 'CUG':'L', 'CUU':'L', \n",
    "        'CCA':'P', 'CCC':'P', 'CCG':'P', 'CCU':'P', \n",
    "        'CAC':'H', 'CAU':'H', 'CAA':'Q', 'CAG':'Q', \n",
    "        'CGA':'R', 'CGC':'R', 'CGG':'R', 'CGU':'R', \n",
    "        'GUA':'V', 'GUC':'V', 'GUG':'V', 'GUU':'V', \n",
    "        'GCA':'A', 'GCC':'A', 'GCG':'A', 'GCU':'A', \n",
    "        'GAC':'D', 'GAU':'D', 'GAA':'E', 'GAG':'E', \n",
    "        'GGA':'G', 'GGC':'G', 'GGG':'G', 'GGU':'G', \n",
    "        'UCA':'S', 'UCC':'S', 'UCG':'S', 'UCU':'S', \n",
    "        'UUC':'F', 'UUU':'F', 'UUA':'L', 'UUG':'L', \n",
    "        'UAC':'Y', 'UAU':'Y', 'UAA':'_', 'UAG':'_', \n",
    "        'UGC':'C', 'UGU':'C', 'UGA':'_', 'UGG':'W', \n",
    "\n",
    "    } \n",
    "    protein =\"\" \n",
    "    seq=seq[2:-2]+'G'\n",
    "    print(seq)\n",
    "    print(len(seq))\n",
    "    if len(seq)%3 == 0: \n",
    "        for i in range(0, len(seq), 3): \n",
    "            codon = seq[i:i + 3] \n",
    "            protein+= table[codon] \n",
    "    return protein "
   ]
  },
  {
   "cell_type": "code",
   "execution_count": 38,
   "id": "f159e24d-3d8d-4629-a6e5-e0315e86ff7d",
   "metadata": {},
   "outputs": [
    {
     "name": "stdout",
     "output_type": "stream",
     "text": [
      "GACGAGAAGGAGUGCUGGUUAUACUAGCGGUUAGGUCACUCGUC3'\n",
      " \n",
      "CCGAAGCTTAATACGACTCACTATAGGGATCCGCCTGATTAGCGATACT-ATGGGAGGGCGCGTTCTTCGTGGTTACTTTTAGTCCCGACTTGAGCAAAATCACCTGCAGGGG\n",
      "CCGAAGCTTAATACGACTCACTATAGGGATCCGCCTGATTAGCGATACTTGGGAGGGCGCGTTCTTCGTGGTTACTTTTAGTCCCG[3'\n",
      "CCGAAGCTTAATACGACTCACTATAGGGATCCGCCTGATTAGCGATACTTGGGAGGGCGCGTTCTTCGTGGTTACTTTTAGTCCCG[3'\n",
      "CCGAAGCTTAATACGACTCACTATAGGGATCCGCCTGATTAGCGATACTTGGGAGGGCGCGTTCTTCGTGGTTACTTTTAGTCCCG[3'\n",
      "CACAGGCTACGGCACGTAGAGCATCACCATGATCCTGTG[3'\n",
      "CACAGGCTACGGCACGTAGAGCATCACCATGATCCTGTG[3'\n",
      "CACAGGCTACGGCACGTAGAGCATCACCATGATCCTGTG[3'\n",
      "CCGAAGCTTAATACGACTCACTATAGGGATCCGCCTGATTAGCGATACTTACTCAGGGCACTGCAAGCAATTGTGGTCCCAATGGGCTGAGTA[3'\n",
      "CCGAAGCTTAATACGACTCACTATAGGGATCCGCCTGATTAGCGATACTTACTCAGGGCACTGCAAGCAATTGTGGTCCCAATGGGCTGAGTA[3'\n",
      "CCGAAGCTTAATACGACTCACTATAGGGATCCGCCTGATTAGCGATACTTACTCAGGGCACTGCAAGCAATTGTGGTCCCAATGGGCTGAGTA[3'\n",
      "GGGCGACCCCAGUGCAUUGCGAAGAAACUGUGCGACUUCGGUCGCAGCAAACGUCGGC3\"\n",
      "5'GCCGUAGGUUGCCC\n",
      "GCCGGCCAATGTACAGTATTGGCCGGC(Symmetric Dimer CPG)CGGCCGGTTATGACATGTAACCGGCCG\n",
      "GCGGGGTTGGGCGGGTGGGTTCGCTGGGCAGGGGGCGAGTG\t\n",
      "GAACCGGCCCAGCAGACUGCUGACGGCACGAUC3'(3'U5\n",
      "UCAAUGGUACGGUACUUCCAUUGUCAUGUGUAUGUUGGGGAUUAAACCCUGAUUGAGUUCAGconCCCACAUACUUUGUUGAUUGGUUGUCAAUCAUGGCAAAAGUGCACGCUACUUUGA\n",
      "UCAAUGGUACGGUACUUCCAUUGUCAUGUGUAGGGUUGGGAAGAAACUGUGGCACUUCGGUGCCAGconCAACCCUACUUUGUUGAUUGGUUGUCAAUCAUGGCAAAAGUGCACGCUACUUUGA\n",
      "GGGAGCUCAGCCUUCACUGC-CUACGCGGGCGUUUACGUAACGGCUUAUGGGGAGCUGAGCGCUUGACCGUGGUAGUGCUAAGCAGUAAACGAG-GGCACCACGGUCGGAUCCAC\n",
      "TAATACGACTCACTATAGGGAATTCTATCCGGGTAAAGCTGGCCACCGGAATACTGGAAATCTGGATCCCT3GCTAGTAAGCTTGCCGT\n"
     ]
    },
    {
     "name": "stderr",
     "output_type": "stream",
     "text": [
      "c:\\program files\\python38\\lib\\site-packages\\Bio\\Seq.py:2880: BiopythonWarning: Partial codon, len(sequence) not a multiple of three. Explicitly trim the sequence or add trailing N before translation. This may become an error in future.\n",
      "  warnings.warn(\n"
     ]
    },
    {
     "ename": "UnicodeEncodeError",
     "evalue": "'ascii' codec can't encode character '\\u2032' in position 7: ordinal not in range(128)",
     "output_type": "error",
     "traceback": [
      "\u001b[1;31m---------------------------------------------------------------------------\u001b[0m",
      "\u001b[1;31mUnicodeEncodeError\u001b[0m                        Traceback (most recent call last)",
      "Cell \u001b[1;32mIn[38], line 14\u001b[0m\n\u001b[0;32m     11\u001b[0m         \u001b[38;5;28;01mreturn\u001b[39;00m \u001b[38;5;28;01mNone\u001b[39;00m\n\u001b[0;32m     13\u001b[0m \u001b[38;5;66;03m# Применение функции к столбцу и создание нового столбца с аминокислотными последовательностями\u001b[39;00m\n\u001b[1;32m---> 14\u001b[0m df[\u001b[38;5;124m'\u001b[39m\u001b[38;5;124mamino_acid_sequence\u001b[39m\u001b[38;5;124m'\u001b[39m] \u001b[38;5;241m=\u001b[39m \u001b[43mdf\u001b[49m\u001b[43m[\u001b[49m\u001b[38;5;124;43m'\u001b[39;49m\u001b[38;5;124;43mAptamer Sequence\u001b[39;49m\u001b[38;5;124;43m'\u001b[39;49m\u001b[43m]\u001b[49m\u001b[38;5;241;43m.\u001b[39;49m\u001b[43mapply\u001b[49m\u001b[43m(\u001b[49m\u001b[43mtranslate_sequence\u001b[49m\u001b[43m)\u001b[49m\n\u001b[0;32m     16\u001b[0m \u001b[38;5;28mprint\u001b[39m(df[\u001b[38;5;124m'\u001b[39m\u001b[38;5;124mamino_acid_sequence\u001b[39m\u001b[38;5;124m'\u001b[39m])\n",
      "File \u001b[1;32mc:\\program files\\python38\\lib\\site-packages\\pandas\\core\\series.py:4630\u001b[0m, in \u001b[0;36mSeries.apply\u001b[1;34m(self, func, convert_dtype, args, **kwargs)\u001b[0m\n\u001b[0;32m   4520\u001b[0m \u001b[38;5;28;01mdef\u001b[39;00m \u001b[38;5;21mapply\u001b[39m(\n\u001b[0;32m   4521\u001b[0m     \u001b[38;5;28mself\u001b[39m,\n\u001b[0;32m   4522\u001b[0m     func: AggFuncType,\n\u001b[1;32m   (...)\u001b[0m\n\u001b[0;32m   4525\u001b[0m     \u001b[38;5;241m*\u001b[39m\u001b[38;5;241m*\u001b[39mkwargs,\n\u001b[0;32m   4526\u001b[0m ) \u001b[38;5;241m-\u001b[39m\u001b[38;5;241m>\u001b[39m DataFrame \u001b[38;5;241m|\u001b[39m Series:\n\u001b[0;32m   4527\u001b[0m \u001b[38;5;250m    \u001b[39m\u001b[38;5;124;03m\"\"\"\u001b[39;00m\n\u001b[0;32m   4528\u001b[0m \u001b[38;5;124;03m    Invoke function on values of Series.\u001b[39;00m\n\u001b[0;32m   4529\u001b[0m \n\u001b[1;32m   (...)\u001b[0m\n\u001b[0;32m   4628\u001b[0m \u001b[38;5;124;03m    dtype: float64\u001b[39;00m\n\u001b[0;32m   4629\u001b[0m \u001b[38;5;124;03m    \"\"\"\u001b[39;00m\n\u001b[1;32m-> 4630\u001b[0m     \u001b[38;5;28;01mreturn\u001b[39;00m \u001b[43mSeriesApply\u001b[49m\u001b[43m(\u001b[49m\u001b[38;5;28;43mself\u001b[39;49m\u001b[43m,\u001b[49m\u001b[43m \u001b[49m\u001b[43mfunc\u001b[49m\u001b[43m,\u001b[49m\u001b[43m \u001b[49m\u001b[43mconvert_dtype\u001b[49m\u001b[43m,\u001b[49m\u001b[43m \u001b[49m\u001b[43margs\u001b[49m\u001b[43m,\u001b[49m\u001b[43m \u001b[49m\u001b[43mkwargs\u001b[49m\u001b[43m)\u001b[49m\u001b[38;5;241;43m.\u001b[39;49m\u001b[43mapply\u001b[49m\u001b[43m(\u001b[49m\u001b[43m)\u001b[49m\n",
      "File \u001b[1;32mc:\\program files\\python38\\lib\\site-packages\\pandas\\core\\apply.py:1025\u001b[0m, in \u001b[0;36mSeriesApply.apply\u001b[1;34m(self)\u001b[0m\n\u001b[0;32m   1022\u001b[0m     \u001b[38;5;28;01mreturn\u001b[39;00m \u001b[38;5;28mself\u001b[39m\u001b[38;5;241m.\u001b[39mapply_str()\n\u001b[0;32m   1024\u001b[0m \u001b[38;5;66;03m# self.f is Callable\u001b[39;00m\n\u001b[1;32m-> 1025\u001b[0m \u001b[38;5;28;01mreturn\u001b[39;00m \u001b[38;5;28;43mself\u001b[39;49m\u001b[38;5;241;43m.\u001b[39;49m\u001b[43mapply_standard\u001b[49m\u001b[43m(\u001b[49m\u001b[43m)\u001b[49m\n",
      "File \u001b[1;32mc:\\program files\\python38\\lib\\site-packages\\pandas\\core\\apply.py:1076\u001b[0m, in \u001b[0;36mSeriesApply.apply_standard\u001b[1;34m(self)\u001b[0m\n\u001b[0;32m   1074\u001b[0m     \u001b[38;5;28;01melse\u001b[39;00m:\n\u001b[0;32m   1075\u001b[0m         values \u001b[38;5;241m=\u001b[39m obj\u001b[38;5;241m.\u001b[39mastype(\u001b[38;5;28mobject\u001b[39m)\u001b[38;5;241m.\u001b[39m_values\n\u001b[1;32m-> 1076\u001b[0m         mapped \u001b[38;5;241m=\u001b[39m \u001b[43mlib\u001b[49m\u001b[38;5;241;43m.\u001b[39;49m\u001b[43mmap_infer\u001b[49m\u001b[43m(\u001b[49m\n\u001b[0;32m   1077\u001b[0m \u001b[43m            \u001b[49m\u001b[43mvalues\u001b[49m\u001b[43m,\u001b[49m\n\u001b[0;32m   1078\u001b[0m \u001b[43m            \u001b[49m\u001b[43mf\u001b[49m\u001b[43m,\u001b[49m\n\u001b[0;32m   1079\u001b[0m \u001b[43m            \u001b[49m\u001b[43mconvert\u001b[49m\u001b[38;5;241;43m=\u001b[39;49m\u001b[38;5;28;43mself\u001b[39;49m\u001b[38;5;241;43m.\u001b[39;49m\u001b[43mconvert_dtype\u001b[49m\u001b[43m,\u001b[49m\n\u001b[0;32m   1080\u001b[0m \u001b[43m        \u001b[49m\u001b[43m)\u001b[49m\n\u001b[0;32m   1082\u001b[0m \u001b[38;5;28;01mif\u001b[39;00m \u001b[38;5;28mlen\u001b[39m(mapped) \u001b[38;5;129;01mand\u001b[39;00m \u001b[38;5;28misinstance\u001b[39m(mapped[\u001b[38;5;241m0\u001b[39m], ABCSeries):\n\u001b[0;32m   1083\u001b[0m     \u001b[38;5;66;03m# GH#43986 Need to do list(mapped) in order to get treated as nested\u001b[39;00m\n\u001b[0;32m   1084\u001b[0m     \u001b[38;5;66;03m#  See also GH#25959 regarding EA support\u001b[39;00m\n\u001b[0;32m   1085\u001b[0m     \u001b[38;5;28;01mreturn\u001b[39;00m obj\u001b[38;5;241m.\u001b[39m_constructor_expanddim(\u001b[38;5;28mlist\u001b[39m(mapped), index\u001b[38;5;241m=\u001b[39mobj\u001b[38;5;241m.\u001b[39mindex)\n",
      "File \u001b[1;32mc:\\program files\\python38\\lib\\site-packages\\pandas\\_libs\\lib.pyx:2834\u001b[0m, in \u001b[0;36mpandas._libs.lib.map_infer\u001b[1;34m()\u001b[0m\n",
      "Cell \u001b[1;32mIn[38], line 6\u001b[0m, in \u001b[0;36mtranslate_sequence\u001b[1;34m(sequence)\u001b[0m\n\u001b[0;32m      4\u001b[0m \u001b[38;5;28;01mif\u001b[39;00m \u001b[38;5;124m'\u001b[39m\u001b[38;5;124mX\u001b[39m\u001b[38;5;124m'\u001b[39m \u001b[38;5;129;01min\u001b[39;00m sequence:\n\u001b[0;32m      5\u001b[0m     \u001b[38;5;28;01mreturn\u001b[39;00m \u001b[38;5;28;01mNone\u001b[39;00m\n\u001b[1;32m----> 6\u001b[0m coding_dna \u001b[38;5;241m=\u001b[39m \u001b[43mSeq\u001b[49m\u001b[43m(\u001b[49m\u001b[43msequence\u001b[49m\u001b[43m)\u001b[49m\n\u001b[0;32m      7\u001b[0m \u001b[38;5;28;01mtry\u001b[39;00m:\n\u001b[0;32m      8\u001b[0m     \u001b[38;5;28;01mreturn\u001b[39;00m \u001b[38;5;28mstr\u001b[39m(coding_dna\u001b[38;5;241m.\u001b[39mtranslate())\n",
      "File \u001b[1;32mc:\\program files\\python38\\lib\\site-packages\\Bio\\Seq.py:2123\u001b[0m, in \u001b[0;36mSeq.__init__\u001b[1;34m(self, data, length)\u001b[0m\n\u001b[0;32m   2121\u001b[0m     \u001b[38;5;28mself\u001b[39m\u001b[38;5;241m.\u001b[39m_data \u001b[38;5;241m=\u001b[39m \u001b[38;5;28mbytes\u001b[39m(data)\n\u001b[0;32m   2122\u001b[0m \u001b[38;5;28;01melif\u001b[39;00m \u001b[38;5;28misinstance\u001b[39m(data, \u001b[38;5;28mstr\u001b[39m):\n\u001b[1;32m-> 2123\u001b[0m     \u001b[38;5;28mself\u001b[39m\u001b[38;5;241m.\u001b[39m_data \u001b[38;5;241m=\u001b[39m \u001b[38;5;28;43mbytes\u001b[39;49m\u001b[43m(\u001b[49m\u001b[43mdata\u001b[49m\u001b[43m,\u001b[49m\u001b[43m \u001b[49m\u001b[43mencoding\u001b[49m\u001b[38;5;241;43m=\u001b[39;49m\u001b[38;5;124;43m\"\u001b[39;49m\u001b[38;5;124;43mASCII\u001b[39;49m\u001b[38;5;124;43m\"\u001b[39;49m\u001b[43m)\u001b[49m\n\u001b[0;32m   2124\u001b[0m \u001b[38;5;28;01melif\u001b[39;00m \u001b[38;5;28misinstance\u001b[39m(data, \u001b[38;5;28mdict\u001b[39m):\n\u001b[0;32m   2125\u001b[0m     \u001b[38;5;28;01mif\u001b[39;00m length \u001b[38;5;129;01mis\u001b[39;00m \u001b[38;5;28;01mNone\u001b[39;00m:\n",
      "\u001b[1;31mUnicodeEncodeError\u001b[0m: 'ascii' codec can't encode character '\\u2032' in position 7: ordinal not in range(128)"
     ]
    }
   ],
   "source": [
    "\n",
    "# Функция для преобразования нуклеотидной последовательности в аминокислоты\n",
    "def translate_sequence(sequence):\n",
    "    sequence=sequence[2:-2]\n",
    "    if 'X' in sequence:\n",
    "        return None\n",
    "    coding_dna = Seq(sequence)\n",
    "    try:\n",
    "        return str(coding_dna.translate())\n",
    "    except:\n",
    "        print(sequence)\n",
    "        return None\n",
    "\n",
    "# Применение функции к столбцу и создание нового столбца с аминокислотными последовательностями\n",
    "df['amino_acid_sequence'] = df['Aptamer Sequence'].apply(translate_sequence)\n",
    "\n",
    "print(df['amino_acid_sequence'])"
   ]
  },
  {
   "cell_type": "code",
   "execution_count": null,
   "id": "9af94590-17dc-48a5-b5c5-ff41cd12b9d9",
   "metadata": {},
   "outputs": [],
   "source": []
  }
 ],
 "metadata": {
  "kernelspec": {
   "display_name": "Python 3 (ipykernel)",
   "language": "python",
   "name": "python3"
  },
  "language_info": {
   "codemirror_mode": {
    "name": "ipython",
    "version": 3
   },
   "file_extension": ".py",
   "mimetype": "text/x-python",
   "name": "python",
   "nbconvert_exporter": "python",
   "pygments_lexer": "ipython3",
   "version": "3.8.2"
  }
 },
 "nbformat": 4,
 "nbformat_minor": 5
}
